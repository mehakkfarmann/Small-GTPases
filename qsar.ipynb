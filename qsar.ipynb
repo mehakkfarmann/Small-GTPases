{
 "cells": [
  {
   "cell_type": "code",
   "execution_count": null,
   "id": "11417423",
   "metadata": {},
   "outputs": [],
   "source": [
    "from pyqsar.descriptors import DescriptorCalculator\n",
    "from pyqsar.models import QSARModel\n",
    "import pandas as pd\n",
    "\n",
    "# Step 1: Load dataset\n",
    "df = pd.read_csv(\"RAW_Specified_Small_GTPases_Bioactivity_Filtered.csv\")  # must have SMILES + activity column\n",
    "\n",
    "# Step 2: Convert SMILES to descriptors\n",
    "calc = DescriptorCalculator(fingerprints=\"morgan\", radius=2, nBits=1024)\n",
    "X = calc.transform(df[\"SMILES\"])\n",
    "y = df[\"pIC50\"]\n",
    "\n",
    "# Step 3: Train model\n",
    "model = QSARModel(algorithm=\"RandomForest\", cv=5)\n",
    "model.fit(X, y)\n",
    "\n",
    "# Step 4: Predict & Evaluate\n",
    "preds = model.predict(X)\n",
    "print(model.evaluate(y, preds))\n"
   ]
  }
 ],
 "metadata": {
  "language_info": {
   "name": "python"
  }
 },
 "nbformat": 4,
 "nbformat_minor": 5
}
