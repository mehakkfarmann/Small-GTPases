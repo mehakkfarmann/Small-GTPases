{
  "cells": [
    {
      "cell_type": "markdown",
      "metadata": {},
      "source": [
        "# preprocess"
      ]
    },
    {
      "cell_type": "code",
      "execution_count": 2,
      "metadata": {
        "colab": {
          "base_uri": "https://localhost:8080/"
        },
        "id": "EpoF8ylSMAtl",
        "outputId": "e0e75b78-a0b5-437a-9172-e6b067c3d2b5"
      },
      "outputs": [
        {
          "name": "stdout",
          "output_type": "stream",
          "text": [
            "Collecting rdkit\n",
            "  Downloading rdkit-2025.3.5-cp312-cp312-manylinux_2_28_x86_64.whl.metadata (4.1 kB)\n",
            "Requirement already satisfied: numpy in /usr/local/lib/python3.12/dist-packages (from rdkit) (2.0.2)\n",
            "Requirement already satisfied: Pillow in /usr/local/lib/python3.12/dist-packages (from rdkit) (11.3.0)\n",
            "Downloading rdkit-2025.3.5-cp312-cp312-manylinux_2_28_x86_64.whl (36.2 MB)\n",
            "\u001b[2K   \u001b[90m━━━━━━━━━━━━━━━━━━━━━━━━━━━━━━━━━━━━━━━━\u001b[0m \u001b[32m36.2/36.2 MB\u001b[0m \u001b[31m51.3 MB/s\u001b[0m eta \u001b[36m0:00:00\u001b[0m\n",
            "\u001b[?25hInstalling collected packages: rdkit\n",
            "Successfully installed rdkit-2025.3.5\n"
          ]
        }
      ],
      "source": [
        "! pip install rdkit"
      ]
    },
    {
      "cell_type": "code",
      "execution_count": null,
      "metadata": {
        "colab": {
          "base_uri": "https://localhost:8080/"
        },
        "id": "pc7RbMe3GfCj",
        "outputId": "8e0c46be-6aa3-4e9f-f440-21b5005b81da"
      },
      "outputs": [
        {
          "name": "stdout",
          "output_type": "stream",
          "text": [
            "Raw filtered dataset: (11059, 47)\n"
          ]
        }
      ],
      "source": [
        "import numpy as np\n",
        "import pandas as pd\n",
        "from rdkit import Chem\n",
        "\n",
        "data = pd.read_csv(\"RAW_Specified_Small_GTPases_Bioactivity_Filtered.csv\")\n",
        "print(\"Raw filtered dataset:\", data.shape)\n"
      ]
    },
    {
      "cell_type": "code",
      "execution_count": 3,
      "metadata": {
        "colab": {
          "base_uri": "https://localhost:8080/"
        },
        "id": "FsJrzOiyMKBA",
        "outputId": "52afda0b-0c4f-4bfc-b73b-784f8c8feb4b"
      },
      "outputs": [
        {
          "name": "stdout",
          "output_type": "stream",
          "text": [
            "After pIC50 conversion: (11059, 48)\n"
          ]
        }
      ],
      "source": [
        "def compute_pIC50(value):\n",
        "    molar = float(value) * 1e-9  # Convert nM → M\n",
        "    return -np.log10(molar)\n",
        "\n",
        "data[\"pIC50\"] = data[\"standard_value\"].apply(compute_pIC50)\n",
        "data = data.dropna(subset=[  \"pIC50\"])\n",
        "print(\"After pIC50 conversion:\", data.shape)"
      ]
    },
    {
      "cell_type": "code",
      "execution_count": 4,
      "metadata": {
        "colab": {
          "base_uri": "https://localhost:8080/"
        },
        "id": "vmeY7KijMQpN",
        "outputId": "2b6d608a-a2ac-402d-cf9f-4528546b2604"
      },
      "outputs": [
        {
          "name": "stdout",
          "output_type": "stream",
          "text": [
            "After removing extreme values: (10971, 48)\n"
          ]
        }
      ],
      "source": [
        "data = data[(data[\"pIC50\"] >= 3) & (data[\"pIC50\"] <= 10)]\n",
        "print(\"After removing extreme values:\", data.shape)"
      ]
    },
    {
      "cell_type": "code",
      "execution_count": 5,
      "metadata": {
        "colab": {
          "base_uri": "https://localhost:8080/"
        },
        "id": "JBUOsoS-MVPH",
        "outputId": "d352da29-56f6-4858-9c68-d155a53d9179"
      },
      "outputs": [
        {
          "name": "stdout",
          "output_type": "stream",
          "text": [
            "After duplicate removal: (7686, 3)\n"
          ]
        }
      ],
      "source": [
        "data = data.groupby(\"molecule_chembl_id\").agg({\n",
        "    \"canonical_smiles\": \"first\",\n",
        "    \"pIC50\": \"median\"\n",
        "}).reset_index()\n",
        "print(\"After duplicate removal:\", data.shape)"
      ]
    },
    {
      "cell_type": "code",
      "execution_count": 6,
      "metadata": {
        "colab": {
          "base_uri": "https://localhost:8080/"
        },
        "id": "cDmEd1ulMZr8",
        "outputId": "239d4a2d-7ee6-44f2-cf92-fdd235448e8b"
      },
      "outputs": [
        {
          "name": "stdout",
          "output_type": "stream",
          "text": [
            "After removing invalid SMILES: (7686, 3)\n"
          ]
        }
      ],
      "source": [
        "data[\"mol\"] = data[\"canonical_smiles\"].apply(Chem.MolFromSmiles)\n",
        "data = data[~data[\"mol\"].isna()].drop(columns=[\"mol\"])\n",
        "print(\"After removing invalid SMILES:\", data.shape)"
      ]
    },
    {
      "cell_type": "code",
      "execution_count": 7,
      "metadata": {
        "id": "Us9AJevcMcYz"
      },
      "outputs": [],
      "source": [
        "# ---------- Step 6: Label datasets ----------\n",
        "# Binary: active (≥6), inactive (<6)\n",
        "def label_binary(p):\n",
        "    return \"active\" if p >= 6 else \"inactive\"\n",
        "\n",
        "# 3-class: inactive (≤5), intermediate (5–6), active (≥6)\n",
        "def label_three_class(p):\n",
        "    if p >= 6:\n",
        "        return \"active\"\n",
        "    elif p <= 5:\n",
        "        return \"inactive\"\n",
        "    else:\n",
        "        return \"intermediate\"\n",
        "\n",
        "binary = data.copy()\n",
        "binary[\"bioactivity_class\"] = binary[\"pIC50\"].apply(label_binary)\n",
        "\n",
        "threeclass = data.copy()\n",
        "threeclass[\"bioactivity_class\"] = threeclass[\"pIC50\"].apply(label_three_class)"
      ]
    },
    {
      "cell_type": "code",
      "execution_count": 8,
      "metadata": {
        "id": "nFPwpTrkMjhr"
      },
      "outputs": [],
      "source": [
        "binary.to_csv(\"Binary_Preprocessed.csv\", index=False)\n",
        "threeclass.to_csv(\"3Class_Preprocessed.csv\", index=False)\n"
      ]
    },
    {
      "cell_type": "code",
      "execution_count": 9,
      "metadata": {
        "colab": {
          "base_uri": "https://localhost:8080/"
        },
        "id": "2U7xfhcGMoxY",
        "outputId": "92cf5f7d-6e1b-4d77-bee0-24ceb0e3b333"
      },
      "outputs": [
        {
          "name": "stdout",
          "output_type": "stream",
          "text": [
            "\n",
            "✅ Preprocessing complete!\n",
            "Binary dataset: (7686, 4)\n",
            "bioactivity_class\n",
            "inactive    6296\n",
            "active      1390\n",
            "Name: count, dtype: int64\n",
            "\n",
            "3-Class dataset: (7686, 4)\n",
            "bioactivity_class\n",
            "inactive        4666\n",
            "intermediate    1630\n",
            "active          1390\n",
            "Name: count, dtype: int64\n"
          ]
        }
      ],
      "source": [
        "# ---------- Final Stats ----------\n",
        "print(\"\\n✅ Preprocessing complete!\")\n",
        "print(\"Binary dataset:\", binary.shape)\n",
        "print(binary[\"bioactivity_class\"].value_counts())\n",
        "\n",
        "print(\"\\n3-Class dataset:\", threeclass.shape)\n",
        "print(threeclass[\"bioactivity_class\"].value_counts())\n"
      ]
    }
  ],
  "metadata": {
    "colab": {
      "provenance": []
    },
    "kernelspec": {
      "display_name": "Python 3",
      "name": "python3"
    },
    "language_info": {
      "codemirror_mode": {
        "name": "ipython",
        "version": 3
      },
      "file_extension": ".py",
      "mimetype": "text/x-python",
      "name": "python",
      "nbconvert_exporter": "python",
      "pygments_lexer": "ipython3",
      "version": "3.13.5"
    }
  },
  "nbformat": 4,
  "nbformat_minor": 0
}
